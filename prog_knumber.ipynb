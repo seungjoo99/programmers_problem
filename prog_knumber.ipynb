{
 "cells": [
  {
   "cell_type": "markdown",
   "metadata": {},
   "source": [
    "K번째 수 찾기\n",
    "array , command[[i,j,k], [ ]]형태로 주어짐\n",
    "array에서 i~j번째 자르고 정렬 후 k 번째 수 찾기"
   ]
  },
  {
   "cell_type": "code",
   "execution_count": null,
   "metadata": {},
   "outputs": [],
   "source": [
    "def solution(array, commands):\n",
    "    answer = []\n",
    "    for command in commands: #command 하나씩 확인\n",
    "        i=command[0]\n",
    "        j=command[1]\n",
    "        k=command[2]\n",
    "        array_1=array[i-1:j] #i번째 index는 i-1\n",
    "        array_2=sorted(array_1) #정렬\n",
    "        answer.append(array_2[k-1]) #k번째 index는 k-1\n",
    "    return answer"
   ]
  }
 ],
 "metadata": {
  "kernelspec": {
   "display_name": "Python 3",
   "language": "python",
   "name": "python3"
  },
  "language_info": {
   "codemirror_mode": {
    "name": "ipython",
    "version": 3
   },
   "file_extension": ".py",
   "mimetype": "text/x-python",
   "name": "python",
   "nbconvert_exporter": "python",
   "pygments_lexer": "ipython3",
   "version": "3.7.6"
  }
 },
 "nbformat": 4,
 "nbformat_minor": 2
}
